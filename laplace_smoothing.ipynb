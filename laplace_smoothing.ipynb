{
  "nbformat": 4,
  "nbformat_minor": 0,
  "metadata": {
    "colab": {
      "provenance": []
    },
    "kernelspec": {
      "name": "python3",
      "display_name": "Python 3"
    },
    "language_info": {
      "name": "python"
    }
  },
  "cells": [
    {
      "cell_type": "code",
      "execution_count": null,
      "metadata": {
        "colab": {
          "base_uri": "https://localhost:8080/"
        },
        "id": "IMRWRIv9Qh9O",
        "outputId": "1e4e2282-1618-4ab7-b96b-3f039e29c5fb"
      },
      "outputs": [
        {
          "output_type": "stream",
          "name": "stderr",
          "text": [
            "<ipython-input-6-13a6b211238b>:49: RuntimeWarning: divide by zero encountered in double_scalars\n",
            "  benign_prob *= self.alpha / (np.sum(list(self.cond_prob[\"benign\"][feature].values())) + self.alpha * len(self.cond_prob[\"benign\"][feature]))\n",
            "<ipython-input-6-13a6b211238b>:53: RuntimeWarning: divide by zero encountered in double_scalars\n",
            "  malignant_prob *= self.alpha / (np.sum(list(self.cond_prob[\"malignant\"][feature].values())) + self.alpha * len(self.cond_prob[\"malignant\"][feature]))\n"
          ]
        },
        {
          "output_type": "stream",
          "name": "stdout",
          "text": [
            "Accuracy: 0.7474382157926461\n",
            "Precision: 0.7474382157926461\n",
            "Recall: 1.0\n",
            "F1 Score: 0.8554674025526042\n",
            "confusion matrix [[   0 2514]\n",
            " [   0 7440]]\n"
          ]
        }
      ],
      "source": [
        "import numpy as np\n",
        "import pandas as pd\n",
        "from sklearn.metrics import confusion_matrix, precision_score, recall_score, f1_score\n",
        "import matplotlib.pyplot as plt\n",
        "\n",
        "# Load the dataset\n",
        "data = pd.read_csv(\"/nb.csv\")\n",
        "\n",
        "# Separate the features and the target variable\n",
        "X = data.iloc[:, :-1]\n",
        "y = data.iloc[:, -1]\n",
        "\n",
        "# Split the dataset into training and testing sets\n",
        "from sklearn.model_selection import train_test_split\n",
        "X_train, X_test, y_train, y_test = train_test_split(X, y, test_size=0.33, random_state=42)\n",
        "\n",
        "class NaiveBayes:\n",
        "    def __init__(self, alpha=1.0):\n",
        "        self.alpha = alpha\n",
        "        self.prior = {}\n",
        "        self.cond_prob = {}\n",
        "    \n",
        "    def fit(self, X_train, y_train):\n",
        "        # Calculate the prior probability of each class\n",
        "        self.prior[\"benign\"] = np.sum(y_train == \"B\") / len(y_train)\n",
        "        self.prior[\"malignant\"] = np.sum(y_train == \"M\") / len(y_train)\n",
        "        \n",
        "        # Calculate the conditional probability of each feature given to each class\n",
        "        for label in [\"benign\", \"malignant\"]:\n",
        "            label_indices = np.where(y_train == label)[0]\n",
        "            label_features = X_train.iloc[label_indices, :]\n",
        "            self.cond_prob[label] = {}\n",
        "            for feature in label_features.columns:\n",
        "                unique_vals, counts = np.unique(label_features[feature], return_counts=True)\n",
        "                prob_dict = dict(zip(unique_vals, (counts + self.alpha) / (np.sum(counts) + self.alpha * len(unique_vals))))\n",
        "                self.cond_prob[label][feature] = prob_dict\n",
        "    \n",
        "    def predict(self, X_test):\n",
        "        # Predict the class of a given instance using the Naive Bayes algorithm\n",
        "        predictions = []\n",
        "        for i in range(len(X_test)):\n",
        "            x = X_test.iloc[i, :]\n",
        "            benign_prob = self.prior[\"benign\"]\n",
        "            malignant_prob = self.prior[\"malignant\"]\n",
        "            for feature in X_test.columns:\n",
        "                if x[feature] in self.cond_prob[\"benign\"][feature]:\n",
        "                    benign_prob *= self.cond_prob[\"benign\"][feature][x[feature]]\n",
        "                else:\n",
        "                    benign_prob *= self.alpha / (np.sum(list(self.cond_prob[\"benign\"][feature].values())) + self.alpha * len(self.cond_prob[\"benign\"][feature]))\n",
        "                if x[feature] in self.cond_prob[\"malignant\"][feature]:\n",
        "                    malignant_prob *= self.cond_prob[\"malignant\"][feature][x[feature]]\n",
        "                else:\n",
        "                    malignant_prob *= self.alpha / (np.sum(list(self.cond_prob[\"malignant\"][feature].values())) + self.alpha * len(self.cond_prob[\"malignant\"][feature]))\n",
        "            if benign_prob > malignant_prob:\n",
        "                predictions.append(\"B\")\n",
        "            else:\n",
        "                predictions.append(\"M\")\n",
        "        return predictions\n",
        "    \n",
        "    def score(self, X_test, y_test):\n",
        "        # Calculate the accuracy of your Naive Bayes classifier on the testing set\n",
        "        y_pred = self.predict(X_test)\n",
        "        accuracy = np.mean(y_pred == y_test)\n",
        "        cm = confusion_matrix(y_test, y_pred)\n",
        "        precision = precision_score(y_test, y_pred, pos_label='M')\n",
        "        recall = recall_score(y_test, y_pred, pos_label='M')\n",
        "        f1 = f1_score(y_test, y_pred, pos_label='M')\n",
        "        return accuracy, cm, precision, recall, f1\n",
        "\n",
        "# Train the model\n",
        "nb = NaiveBayes()\n",
        "nb.fit(X_train, y_train)\n",
        "\n",
        "# Test the model\n",
        "accuracy, cm, precision, recall, f1 = nb.score(X_test, y_test)\n",
        "print(\"Accuracy:\", accuracy)\n",
        "print(\"Precision:\", precision)\n",
        "print(\"Recall:\", recall)\n",
        "print(\"F1 Score:\", f1)\n",
        "print(\"confusion matrix\", cm)"
      ]
    },
    {
      "cell_type": "code",
      "source": [
        "import numpy as np\n",
        "import pandas as pd\n",
        "from sklearn.metrics import confusion_matrix, precision_score, recall_score, f1_score\n",
        "import matplotlib.pyplot as plt\n",
        "\n",
        "# Load the dataset\n",
        "data = pd.read_csv(\"/nb.csv\")\n",
        "\n",
        "accuracies = []\n",
        "precisions = []\n",
        "recalls = []\n",
        "f1_scores = []\n",
        "\n",
        "# Run the model 10 times with different train-test splits\n",
        "for i in range(10):\n",
        "    # Separate the features and the target variable\n",
        "    X = data.iloc[:, :-1]\n",
        "    y = data.iloc[:, -1]\n",
        "\n",
        "    # Split the dataset into training and testing sets\n",
        "    from sklearn.model_selection import train_test_split\n",
        "    X_train, X_test, y_train, y_test = train_test_split(X, y, test_size=0.33, random_state=i)\n",
        "\n",
        "    # Train the model\n",
        "    nb = NaiveBayes()\n",
        "    nb.fit(X_train, y_train)\n",
        "\n",
        "    # Test the model\n",
        "    accuracy, cm, precision, recall, f1 = nb.score(X_test, y_test)\n",
        "    accuracies.append(accuracy)\n",
        "    precisions.append(precision)\n",
        "    recalls.append(recall)\n",
        "    f1_scores.append(f1)\n",
        "    \n",
        "    print(f\"Split {i+1}\")\n",
        "    print(\"Accuracy:\", accuracy)\n",
        "    print(\"Precision:\", precision)\n",
        "    print(\"Recall:\", recall)\n",
        "    print(\"F1 Score:\", f1)\n",
        "    print(\"confusion matrix\", cm)\n",
        "\n",
        "# Print the average metrics across all 10 splits\n",
        "print(\"Average metrics across all 10 splits:\")\n",
        "print(\"Accuracy:\", np.mean(accuracies))\n",
        "print(\"Precision:\", np.mean(precisions))\n",
        "print(\"Recall:\", np.mean(recalls))\n",
        "print(\"F1 Score:\", np.mean(f1_scores))\n"
      ],
      "metadata": {
        "colab": {
          "base_uri": "https://localhost:8080/"
        },
        "id": "E4o_dAULVBxi",
        "outputId": "26fc8bce-19a5-44d1-f815-126f059439de"
      },
      "execution_count": null,
      "outputs": [
        {
          "output_type": "stream",
          "name": "stderr",
          "text": [
            "<ipython-input-6-13a6b211238b>:49: RuntimeWarning: divide by zero encountered in double_scalars\n",
            "  benign_prob *= self.alpha / (np.sum(list(self.cond_prob[\"benign\"][feature].values())) + self.alpha * len(self.cond_prob[\"benign\"][feature]))\n",
            "<ipython-input-6-13a6b211238b>:53: RuntimeWarning: divide by zero encountered in double_scalars\n",
            "  malignant_prob *= self.alpha / (np.sum(list(self.cond_prob[\"malignant\"][feature].values())) + self.alpha * len(self.cond_prob[\"malignant\"][feature]))\n"
          ]
        },
        {
          "output_type": "stream",
          "name": "stdout",
          "text": [
            "Split 1\n",
            "Accuracy: 0.7512557765722323\n",
            "Precision: 0.7512557765722323\n",
            "Recall: 1.0\n",
            "F1 Score: 0.8579623680587426\n",
            "confusion matrix [[   0 2476]\n",
            " [   0 7478]]\n"
          ]
        },
        {
          "output_type": "stream",
          "name": "stderr",
          "text": [
            "<ipython-input-6-13a6b211238b>:49: RuntimeWarning: divide by zero encountered in double_scalars\n",
            "  benign_prob *= self.alpha / (np.sum(list(self.cond_prob[\"benign\"][feature].values())) + self.alpha * len(self.cond_prob[\"benign\"][feature]))\n",
            "<ipython-input-6-13a6b211238b>:53: RuntimeWarning: divide by zero encountered in double_scalars\n",
            "  malignant_prob *= self.alpha / (np.sum(list(self.cond_prob[\"malignant\"][feature].values())) + self.alpha * len(self.cond_prob[\"malignant\"][feature]))\n"
          ]
        },
        {
          "output_type": "stream",
          "name": "stdout",
          "text": [
            "Split 2\n",
            "Accuracy: 0.7507534659433394\n",
            "Precision: 0.7507534659433394\n",
            "Recall: 1.0\n",
            "F1 Score: 0.8576347047684627\n",
            "confusion matrix [[   0 2481]\n",
            " [   0 7473]]\n"
          ]
        },
        {
          "output_type": "stream",
          "name": "stderr",
          "text": [
            "<ipython-input-6-13a6b211238b>:49: RuntimeWarning: divide by zero encountered in double_scalars\n",
            "  benign_prob *= self.alpha / (np.sum(list(self.cond_prob[\"benign\"][feature].values())) + self.alpha * len(self.cond_prob[\"benign\"][feature]))\n",
            "<ipython-input-6-13a6b211238b>:53: RuntimeWarning: divide by zero encountered in double_scalars\n",
            "  malignant_prob *= self.alpha / (np.sum(list(self.cond_prob[\"malignant\"][feature].values())) + self.alpha * len(self.cond_prob[\"malignant\"][feature]))\n"
          ]
        },
        {
          "output_type": "stream",
          "name": "stdout",
          "text": [
            "Split 3\n",
            "Accuracy: 0.7470363672895318\n",
            "Precision: 0.7470363672895318\n",
            "Recall: 1.0\n",
            "F1 Score: 0.8552041403105233\n",
            "confusion matrix [[   0 2518]\n",
            " [   0 7436]]\n"
          ]
        },
        {
          "output_type": "stream",
          "name": "stderr",
          "text": [
            "<ipython-input-6-13a6b211238b>:49: RuntimeWarning: divide by zero encountered in double_scalars\n",
            "  benign_prob *= self.alpha / (np.sum(list(self.cond_prob[\"benign\"][feature].values())) + self.alpha * len(self.cond_prob[\"benign\"][feature]))\n",
            "<ipython-input-6-13a6b211238b>:53: RuntimeWarning: divide by zero encountered in double_scalars\n",
            "  malignant_prob *= self.alpha / (np.sum(list(self.cond_prob[\"malignant\"][feature].values())) + self.alpha * len(self.cond_prob[\"malignant\"][feature]))\n"
          ]
        },
        {
          "output_type": "stream",
          "name": "stdout",
          "text": [
            "Split 4\n",
            "Accuracy: 0.746031746031746\n",
            "Precision: 0.746031746031746\n",
            "Recall: 1.0\n",
            "F1 Score: 0.8545454545454546\n",
            "confusion matrix [[   0 2528]\n",
            " [   0 7426]]\n"
          ]
        },
        {
          "output_type": "stream",
          "name": "stderr",
          "text": [
            "<ipython-input-6-13a6b211238b>:49: RuntimeWarning: divide by zero encountered in double_scalars\n",
            "  benign_prob *= self.alpha / (np.sum(list(self.cond_prob[\"benign\"][feature].values())) + self.alpha * len(self.cond_prob[\"benign\"][feature]))\n",
            "<ipython-input-6-13a6b211238b>:53: RuntimeWarning: divide by zero encountered in double_scalars\n",
            "  malignant_prob *= self.alpha / (np.sum(list(self.cond_prob[\"malignant\"][feature].values())) + self.alpha * len(self.cond_prob[\"malignant\"][feature]))\n"
          ]
        },
        {
          "output_type": "stream",
          "name": "stdout",
          "text": [
            "Split 5\n",
            "Accuracy: 0.7497488446855536\n",
            "Precision: 0.7497488446855536\n",
            "Recall: 1.0\n",
            "F1 Score: 0.8569788138026067\n",
            "confusion matrix [[   0 2491]\n",
            " [   0 7463]]\n"
          ]
        },
        {
          "output_type": "stream",
          "name": "stderr",
          "text": [
            "<ipython-input-6-13a6b211238b>:49: RuntimeWarning: divide by zero encountered in double_scalars\n",
            "  benign_prob *= self.alpha / (np.sum(list(self.cond_prob[\"benign\"][feature].values())) + self.alpha * len(self.cond_prob[\"benign\"][feature]))\n",
            "<ipython-input-6-13a6b211238b>:53: RuntimeWarning: divide by zero encountered in double_scalars\n",
            "  malignant_prob *= self.alpha / (np.sum(list(self.cond_prob[\"malignant\"][feature].values())) + self.alpha * len(self.cond_prob[\"malignant\"][feature]))\n"
          ]
        },
        {
          "output_type": "stream",
          "name": "stdout",
          "text": [
            "Split 6\n",
            "Accuracy: 0.7462326702833032\n",
            "Precision: 0.7462326702833032\n",
            "Recall: 1.0\n",
            "F1 Score: 0.8546772523299966\n",
            "confusion matrix [[   0 2526]\n",
            " [   0 7428]]\n"
          ]
        },
        {
          "output_type": "stream",
          "name": "stderr",
          "text": [
            "<ipython-input-6-13a6b211238b>:49: RuntimeWarning: divide by zero encountered in double_scalars\n",
            "  benign_prob *= self.alpha / (np.sum(list(self.cond_prob[\"benign\"][feature].values())) + self.alpha * len(self.cond_prob[\"benign\"][feature]))\n",
            "<ipython-input-6-13a6b211238b>:53: RuntimeWarning: divide by zero encountered in double_scalars\n",
            "  malignant_prob *= self.alpha / (np.sum(list(self.cond_prob[\"malignant\"][feature].values())) + self.alpha * len(self.cond_prob[\"malignant\"][feature]))\n"
          ]
        },
        {
          "output_type": "stream",
          "name": "stdout",
          "text": [
            "Split 7\n",
            "Accuracy: 0.7526622463331324\n",
            "Precision: 0.7526622463331324\n",
            "Recall: 1.0\n",
            "F1 Score: 0.8588788260919408\n",
            "confusion matrix [[   0 2462]\n",
            " [   0 7492]]\n"
          ]
        },
        {
          "output_type": "stream",
          "name": "stderr",
          "text": [
            "<ipython-input-6-13a6b211238b>:49: RuntimeWarning: divide by zero encountered in double_scalars\n",
            "  benign_prob *= self.alpha / (np.sum(list(self.cond_prob[\"benign\"][feature].values())) + self.alpha * len(self.cond_prob[\"benign\"][feature]))\n",
            "<ipython-input-6-13a6b211238b>:53: RuntimeWarning: divide by zero encountered in double_scalars\n",
            "  malignant_prob *= self.alpha / (np.sum(list(self.cond_prob[\"malignant\"][feature].values())) + self.alpha * len(self.cond_prob[\"malignant\"][feature]))\n"
          ]
        },
        {
          "output_type": "stream",
          "name": "stdout",
          "text": [
            "Split 8\n",
            "Accuracy: 0.7450271247739603\n",
            "Precision: 0.7450271247739603\n",
            "Recall: 1.0\n",
            "F1 Score: 0.8538860103626943\n",
            "confusion matrix [[   0 2538]\n",
            " [   0 7416]]\n"
          ]
        },
        {
          "output_type": "stream",
          "name": "stderr",
          "text": [
            "<ipython-input-6-13a6b211238b>:49: RuntimeWarning: divide by zero encountered in double_scalars\n",
            "  benign_prob *= self.alpha / (np.sum(list(self.cond_prob[\"benign\"][feature].values())) + self.alpha * len(self.cond_prob[\"benign\"][feature]))\n",
            "<ipython-input-6-13a6b211238b>:53: RuntimeWarning: divide by zero encountered in double_scalars\n",
            "  malignant_prob *= self.alpha / (np.sum(list(self.cond_prob[\"malignant\"][feature].values())) + self.alpha * len(self.cond_prob[\"malignant\"][feature]))\n"
          ]
        },
        {
          "output_type": "stream",
          "name": "stdout",
          "text": [
            "Split 9\n",
            "Accuracy: 0.7488446855535463\n",
            "Precision: 0.7488446855535463\n",
            "Recall: 1.0\n",
            "F1 Score: 0.8563878676470588\n",
            "confusion matrix [[   0 2500]\n",
            " [   0 7454]]\n"
          ]
        },
        {
          "output_type": "stream",
          "name": "stderr",
          "text": [
            "<ipython-input-6-13a6b211238b>:49: RuntimeWarning: divide by zero encountered in double_scalars\n",
            "  benign_prob *= self.alpha / (np.sum(list(self.cond_prob[\"benign\"][feature].values())) + self.alpha * len(self.cond_prob[\"benign\"][feature]))\n",
            "<ipython-input-6-13a6b211238b>:53: RuntimeWarning: divide by zero encountered in double_scalars\n",
            "  malignant_prob *= self.alpha / (np.sum(list(self.cond_prob[\"malignant\"][feature].values())) + self.alpha * len(self.cond_prob[\"malignant\"][feature]))\n"
          ]
        },
        {
          "output_type": "stream",
          "name": "stdout",
          "text": [
            "Split 10\n",
            "Accuracy: 0.750853928069118\n",
            "Precision: 0.750853928069118\n",
            "Recall: 1.0\n",
            "F1 Score: 0.8577002524672941\n",
            "confusion matrix [[   0 2480]\n",
            " [   0 7474]]\n",
            "Average metrics across all 10 splits:\n",
            "Accuracy: 0.7488446855535462\n",
            "Precision: 0.7488446855535462\n",
            "Recall: 1.0\n",
            "F1 Score: 0.8563855690384774\n"
          ]
        }
      ]
    }
  ]
}